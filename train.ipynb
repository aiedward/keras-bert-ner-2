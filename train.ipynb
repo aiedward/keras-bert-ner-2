{
 "cells": [
  {
   "cell_type": "code",
   "execution_count": 1,
   "metadata": {},
   "outputs": [],
   "source": [
    "import os\n",
    "\n",
    "import sys\n",
    "\n",
    "import numpy as np\n",
    "import conlleval\n",
    "\n",
    "from common import encode, label_encode, write_result\n",
    "from common import load_pretrained\n",
    "from common import create_ner_model, create_optimizer, argument_parser\n",
    "from common import read_conll, process_sentences, get_labels\n",
    "from common import save_ner_model\n"
   ]
  },
  {
   "cell_type": "code",
   "execution_count": 8,
   "metadata": {},
   "outputs": [],
   "source": [
    "class arguments:\n",
    "    datadir=\"./data/finer-news\"\n",
    "    train_data= \"./data/finer-news/train.tsv\"\n",
    "    dev_data = \"./data/finer-news/dev.tsv\"\n",
    "    test_data=\"./data/finer-news/test.tsv\"\n",
    "    ner_model_dir=\"./finer-news-model\"\n",
    "\n",
    "    modeldir=\"./models/bert-base-finnish-cased-v1\"\n",
    "    init_checkpoint=\"./models/bert-base-finnish-cased-v1/bert_model.ckpt\"\n",
    "    vocab_file=\"./models/bert-base-finnish-cased-v1/vocab.txt\"\n",
    "    bert_config_file=\"./models/bert-base-finnish-cased-v1/bert_config.json\"\n",
    "\n",
    "    batch_size=4\n",
    "    learning_rate=5e-5\n",
    "    max_seq_length=512\n",
    "    num_train_epochs=1\n",
    "    warmup_proportion = 0.1\n",
    "    output_file = \"./output.tsv\"\n",
    "    do_lower_case = False\n",
    "\n",
    "args = arguments()"
   ]
  },
  {
   "cell_type": "code",
   "execution_count": 6,
   "metadata": {},
   "outputs": [
    {
     "data": {
      "text/plain": [
       "'./data/finer-news'"
      ]
     },
     "execution_count": 6,
     "metadata": {},
     "output_type": "execute_result"
    }
   ],
   "source": [
    "args.datadir"
   ]
  },
  {
   "cell_type": "code",
   "execution_count": 9,
   "metadata": {},
   "outputs": [
    {
     "name": "stderr",
     "output_type": "stream",
     "text": [
      "W0114 12:01:00.234465 140345459726144 deprecation_wrapper.py:119] From /home/joffe/projektit/keras-bert-ner/bert/tokenization.py:125: The name tf.gfile.GFile is deprecated. Please use tf.io.gfile.GFile instead.\n",
      "\n"
     ]
    }
   ],
   "source": [
    "seq_len = args.max_seq_length    # abbreviation\n",
    "\n",
    "pretrained_model, tokenizer = load_pretrained(args)\n",
    "\n",
    "train_words, train_tags = read_conll(args.train_data)\n",
    "test_words, test_tags = read_conll(args.test_data)\n",
    "train_data = process_sentences(train_words, train_tags, tokenizer, seq_len)\n",
    "test_data = process_sentences(test_words, test_tags, tokenizer, seq_len)\n",
    "\n",
    "label_list = get_labels(train_data.labels)\n",
    "tag_map = { l: i for i, l in enumerate(label_list) }\n",
    "inv_tag_map = { v: k for k, v in tag_map.items() }\n",
    "\n",
    "train_x = encode(train_data.combined_tokens, tokenizer, seq_len)\n",
    "test_x = encode(test_data.combined_tokens, tokenizer, seq_len)\n",
    "\n",
    "train_y, train_weights = label_encode(\n",
    "    train_data.combined_labels, tag_map, seq_len)\n",
    "test_y, test_weights = label_encode(\n",
    "    test_data.combined_labels, tag_map, seq_len)\n",
    "\n",
    "ner_model = create_ner_model(pretrained_model, len(tag_map))\n",
    "optimizer = create_optimizer(len(train_x[0]), args)\n",
    "\n",
    "ner_model.compile(\n",
    "    optimizer,\n",
    "    loss='sparse_categorical_crossentropy',\n",
    "    sample_weight_mode='temporal',\n",
    "    metrics=['sparse_categorical_accuracy']\n",
    ")\n"
   ]
  },
  {
   "cell_type": "code",
   "execution_count": 10,
   "metadata": {},
   "outputs": [
    {
     "name": "stderr",
     "output_type": "stream",
     "text": [
      "W0114 12:01:45.013004 140345459726144 deprecation.py:323] From /home/joffe/anaconda3/envs/kerasner/lib/python3.7/site-packages/tensorflow/python/ops/math_grad.py:1250: add_dispatch_support.<locals>.wrapper (from tensorflow.python.ops.array_ops) is deprecated and will be removed in a future version.\n",
      "Instructions for updating:\n",
      "Use tf.where in 2.0, which has the same broadcast rule as np.where\n"
     ]
    },
    {
     "name": "stdout",
     "output_type": "stream",
     "text": [
      "13497/13497 [==============================] - 911s 68ms/sample - loss: 0.0433 - sparse_categorical_accuracy: 0.9403\n"
     ]
    },
    {
     "data": {
      "text/plain": [
       "<tensorflow.python.keras.callbacks.History at 0x7fa05068cc50>"
      ]
     },
     "execution_count": 10,
     "metadata": {},
     "output_type": "execute_result"
    }
   ],
   "source": [
    "ner_model.fit(\n",
    "    train_x,\n",
    "    train_y,\n",
    "    sample_weight=train_weights,\n",
    "    epochs=args.num_train_epochs,\n",
    "    batch_size=args.batch_size\n",
    ")"
   ]
  },
  {
   "cell_type": "code",
   "execution_count": 11,
   "metadata": {},
   "outputs": [],
   "source": [
    "if args.ner_model_dir is not None:\n",
    "    label_list = [v for k, v in sorted(list(inv_tag_map.items()))]\n",
    "    save_ner_model(ner_model, tokenizer, label_list, args)"
   ]
  },
  {
   "cell_type": "code",
   "execution_count": 12,
   "metadata": {},
   "outputs": [],
   "source": [
    "probs = ner_model.predict(test_x, batch_size=args.batch_size)\n",
    "preds = np.argmax(probs, axis=-1)"
   ]
  },
  {
   "cell_type": "code",
   "execution_count": 13,
   "metadata": {},
   "outputs": [],
   "source": [
    "pred_tags = []\n",
    "for i, pred in enumerate(preds):\n",
    "    pred_tags.append([inv_tag_map[t] \n",
    "                      for t in pred[1:len(test_data.tokens[i])+1]])"
   ]
  },
  {
   "cell_type": "code",
   "execution_count": 14,
   "metadata": {},
   "outputs": [
    {
     "name": "stdout",
     "output_type": "stream",
     "text": [
      "processed 46363 tokens with 4124 phrases; found: 4216 phrases; correct: 3860.\n",
      "accuracy:  98.76%; precision:  91.56%; recall:  93.60%; FB1:  92.57\n",
      "             DATE: precision:  97.08%; recall:  97.90%; FB1:  97.49  240\n",
      "            EVENT: precision:  94.12%; recall:  88.89%; FB1:  91.43  17\n",
      "              LOC: precision:  95.91%; recall:  96.28%; FB1:  96.09  513\n",
      "              ORG: precision:  93.15%; recall:  96.33%; FB1:  94.71  1943\n",
      "              PER: precision:  91.69%; recall:  97.78%; FB1:  94.64  433\n",
      "              PRO: precision:  85.23%; recall:  85.07%; FB1:  85.15  1070\n"
     ]
    }
   ],
   "source": [
    "lines = write_result(\n",
    "    args.output_file, test_data.words, test_data.lengths,\n",
    "    test_data.tokens, test_data.labels, pred_tags\n",
    ")\n",
    "\n",
    "c = conlleval.evaluate(lines)\n",
    "conlleval.report(c)"
   ]
  },
  {
   "cell_type": "code",
   "execution_count": null,
   "metadata": {},
   "outputs": [],
   "source": []
  }
 ],
 "metadata": {
  "kernelspec": {
   "display_name": "Python 3",
   "language": "python",
   "name": "python3"
  },
  "language_info": {
   "codemirror_mode": {
    "name": "ipython",
    "version": 3
   },
   "file_extension": ".py",
   "mimetype": "text/x-python",
   "name": "python",
   "nbconvert_exporter": "python",
   "pygments_lexer": "ipython3",
   "version": "3.7.3"
  }
 },
 "nbformat": 4,
 "nbformat_minor": 2
}
